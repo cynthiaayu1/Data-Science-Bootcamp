{
 "cells": [
  {
   "cell_type": "code",
   "execution_count": 1,
   "metadata": {
    "colab": {},
    "colab_type": "code",
    "id": "GyakVoXhBGrv",
    "outputId": "39b8ca38-73c2-4f96-a16b-9898575919b9"
   },
   "outputs": [
    {
     "data": {
      "text/html": [
       "<div>\n",
       "<style scoped>\n",
       "    .dataframe tbody tr th:only-of-type {\n",
       "        vertical-align: middle;\n",
       "    }\n",
       "\n",
       "    .dataframe tbody tr th {\n",
       "        vertical-align: top;\n",
       "    }\n",
       "\n",
       "    .dataframe thead th {\n",
       "        text-align: right;\n",
       "    }\n",
       "</style>\n",
       "<table border=\"1\" class=\"dataframe\">\n",
       "  <thead>\n",
       "    <tr style=\"text-align: right;\">\n",
       "      <th></th>\n",
       "      <th>siswa_id</th>\n",
       "      <th>pelajaran</th>\n",
       "      <th>nilai</th>\n",
       "      <th>jenis-kelamin</th>\n",
       "      <th>kelas</th>\n",
       "    </tr>\n",
       "  </thead>\n",
       "  <tbody>\n",
       "    <tr>\n",
       "      <th>0</th>\n",
       "      <td>1</td>\n",
       "      <td>Kimia</td>\n",
       "      <td>0</td>\n",
       "      <td>laki-laki</td>\n",
       "      <td>12C</td>\n",
       "    </tr>\n",
       "    <tr>\n",
       "      <th>1</th>\n",
       "      <td>2</td>\n",
       "      <td>Matematika</td>\n",
       "      <td>92</td>\n",
       "      <td>perempuan</td>\n",
       "      <td>12B</td>\n",
       "    </tr>\n",
       "    <tr>\n",
       "      <th>2</th>\n",
       "      <td>3</td>\n",
       "      <td>Fisika</td>\n",
       "      <td>66</td>\n",
       "      <td>laki-laki</td>\n",
       "      <td>12A</td>\n",
       "    </tr>\n",
       "    <tr>\n",
       "      <th>3</th>\n",
       "      <td>4</td>\n",
       "      <td>Geologi</td>\n",
       "      <td>50</td>\n",
       "      <td>laki-laki</td>\n",
       "      <td>12C</td>\n",
       "    </tr>\n",
       "    <tr>\n",
       "      <th>4</th>\n",
       "      <td>5</td>\n",
       "      <td>Biologi</td>\n",
       "      <td>76</td>\n",
       "      <td>perempuan</td>\n",
       "      <td>12B</td>\n",
       "    </tr>\n",
       "  </tbody>\n",
       "</table>\n",
       "</div>"
      ],
      "text/plain": [
       "   siswa_id   pelajaran  nilai jenis-kelamin kelas\n",
       "0         1       Kimia      0     laki-laki   12C\n",
       "1         2  Matematika     92     perempuan   12B\n",
       "2         3      Fisika     66     laki-laki   12A\n",
       "3         4     Geologi     50     laki-laki   12C\n",
       "4         5     Biologi     76     perempuan   12B"
      ]
     },
     "execution_count": 1,
     "metadata": {},
     "output_type": "execute_result"
    }
   ],
   "source": [
    "# Persiapan membuat data\n",
    "import pandas as pd\n",
    "import random\n",
    "\n",
    "pelajaran = ['Matematika', 'Fisika', 'Biologi', 'Kimia', 'Geologi', 'Ekonomi']\n",
    "kelas = ['12A', '12B', '12C', '12D']\n",
    "\n",
    "hasil_nilai = {\n",
    "    'siswa_id' : range(1, 21),\n",
    "    'pelajaran' : [random.choice(pelajaran) for i in range(20)],\n",
    "    'nilai' : [random.choice(range(0, 100)) for i in range(20)],\n",
    "    'jenis-kelamin' : [random.choice(['laki-laki', 'perempuan']) for i in range(20)],\n",
    "    'kelas' : [random.choice(kelas) for i in range(20)]\n",
    "}\n",
    "\n",
    "df = pd.DataFrame(hasil_nilai)\n",
    "df.head()"
   ]
  },
  {
   "cell_type": "markdown",
   "metadata": {
    "colab_type": "text",
    "id": "aNoScqypBGr5"
   },
   "source": [
    "<h2>Soal 1: Indexing</h2>\n",
    "\n",
    "1. Lakukan indexing terhadap dataframe untuk mengakses column nilai dan kelas saja\n",
    "2. Lakukan indexing terhadap dataframe untuk mengakses row 5 sampai 10 beserta column pelajaran dan nilai"
   ]
  },
  {
   "cell_type": "code",
   "execution_count": 2,
   "metadata": {
    "colab": {},
    "colab_type": "code",
    "id": "rKmgvnS2BGr6"
   },
   "outputs": [
    {
     "name": "stdout",
     "output_type": "stream",
     "text": [
      "    nilai kelas\n",
      "0       0   12C\n",
      "1      92   12B\n",
      "2      66   12A\n",
      "3      50   12C\n",
      "4      76   12B\n",
      "5      29   12A\n",
      "6      31   12B\n",
      "7      10   12B\n",
      "8      34   12B\n",
      "9      51   12A\n",
      "10      8   12D\n",
      "11     74   12A\n",
      "12     26   12A\n",
      "13      2   12D\n",
      "14     62   12C\n",
      "15     68   12C\n",
      "16     45   12C\n",
      "17     30   12D\n",
      "18     62   12D\n",
      "19     69   12B\n",
      "    nilai kelas\n",
      "5      29   12A\n",
      "6      31   12B\n",
      "7      10   12B\n",
      "8      34   12B\n",
      "9      51   12A\n",
      "10      8   12D\n"
     ]
    }
   ],
   "source": [
    "# code here\n",
    "print(df.loc[:, ['nilai', 'kelas']])\n",
    "print(df.loc[5:10, ['nilai', 'kelas']])"
   ]
  },
  {
   "cell_type": "markdown",
   "metadata": {
    "colab_type": "text",
    "id": "F55zUl5GBGr_"
   },
   "source": [
    "<h2>Soal 2: Filter DataFrame Dengan Boolean</h2>\n",
    "\n",
    "1. Tampilkan semua data siswa pada mata pelajaran Ekonomi dan Fisika\n",
    "2. Tampilkan semua data siswa yang mempunyai nilai lebih dari 50 di mata pelajaran Kimia \n",
    "3. Tampilkan semua data yang mempunyai nilai lebih dari 70, berjnis kelamin perempuan dan di kelas 12C"
   ]
  },
  {
   "cell_type": "code",
   "execution_count": 3,
   "metadata": {
    "colab": {},
    "colab_type": "code",
    "id": "eB5oSf_KBGsA"
   },
   "outputs": [
    {
     "name": "stdout",
     "output_type": "stream",
     "text": [
      "    siswa_id pelajaran  nilai jenis-kelamin kelas\n",
      "2          3    Fisika     66     laki-laki   12A\n",
      "6          7    Fisika     31     laki-laki   12B\n",
      "10        11    Fisika      8     perempuan   12D\n",
      "11        12   Ekonomi     74     perempuan   12A\n",
      "13        14   Ekonomi      2     perempuan   12D\n",
      "15        16   Ekonomi     68     laki-laki   12C\n",
      "16        17   Ekonomi     45     perempuan   12C\n"
     ]
    }
   ],
   "source": [
    "# code here\n",
    "ek=df.pelajaran=='Ekonomi'\n",
    "fis=df.pelajaran=='Fisika'\n",
    "print(df[(ek)|(fis)])"
   ]
  },
  {
   "cell_type": "code",
   "execution_count": 4,
   "metadata": {},
   "outputs": [
    {
     "name": "stdout",
     "output_type": "stream",
     "text": [
      "    siswa_id pelajaran  nilai jenis-kelamin kelas\n",
      "9         10     Kimia     51     laki-laki   12A\n",
      "19        20     Kimia     69     perempuan   12B\n"
     ]
    }
   ],
   "source": [
    "kim=df.pelajaran=='Kimia'\n",
    "nilai50=df.nilai>50\n",
    "print(df[(kim)&(nilai50)])"
   ]
  },
  {
   "cell_type": "code",
   "execution_count": 5,
   "metadata": {},
   "outputs": [
    {
     "name": "stdout",
     "output_type": "stream",
     "text": [
      "Empty DataFrame\n",
      "Columns: [siswa_id, pelajaran, nilai, jenis-kelamin, kelas]\n",
      "Index: []\n"
     ]
    }
   ],
   "source": [
    "nilai70=df.nilai>70\n",
    "cwe=df['jenis-kelamin']=='perempuan'\n",
    "kelas12C=df.kelas=='12C'\n",
    "print(df[(nilai70)&(cwe)&(kelas12C)])"
   ]
  },
  {
   "cell_type": "markdown",
   "metadata": {
    "colab_type": "text",
    "id": "6Od6R3H1BGsE"
   },
   "source": [
    "<h2>Soal 3: Data Transformation</h2>\n",
    "\n",
    "lakukan data transformasi terhadap column 'nilai' dengan fungsi transformasi, berikut rumus dari normalisasi\n",
    "\n",
    "![alt text](https://drive.google.com/uc?id=1wed-EbRSTA0JP1ceDp6lcKBqH2yJ4aa3)"
   ]
  },
  {
   "cell_type": "code",
   "execution_count": 6,
   "metadata": {
    "colab": {},
    "colab_type": "code",
    "id": "qeV_iH8nBGsF"
   },
   "outputs": [
    {
     "name": "stdout",
     "output_type": "stream",
     "text": [
      "0      0\n",
      "1     92\n",
      "2     66\n",
      "3     50\n",
      "4     76\n",
      "5     29\n",
      "6     31\n",
      "7     10\n",
      "8     34\n",
      "9     51\n",
      "10     8\n",
      "11    74\n",
      "12    26\n",
      "13     2\n",
      "14    62\n",
      "15    68\n",
      "16    45\n",
      "17    30\n",
      "18    62\n",
      "19    69\n",
      "Name: nilai, dtype: int64\n",
      "    nilai\n",
      "0     0.0\n",
      "1    92.0\n",
      "2    66.0\n",
      "3    50.0\n",
      "4    76.0\n",
      "5    29.0\n",
      "6    31.0\n",
      "7    10.0\n",
      "8    34.0\n",
      "9    51.0\n",
      "10    8.0\n",
      "11   74.0\n",
      "12   26.0\n",
      "13    2.0\n",
      "14   62.0\n",
      "15   68.0\n",
      "16   45.0\n",
      "17   30.0\n",
      "18   62.0\n",
      "19   69.0\n"
     ]
    }
   ],
   "source": [
    "# code here\n",
    "def x_norm(x):\n",
    "    return (x-x.min()/(x.max()-x.min()))\n",
    "print(df.nilai)\n",
    "print(df[['nilai']].apply(x_norm))"
   ]
  },
  {
   "cell_type": "code",
   "execution_count": null,
   "metadata": {},
   "outputs": [],
   "source": []
  }
 ],
 "metadata": {
  "colab": {
   "name": "Tugas Hari 2 Pekan 2.ipynb",
   "provenance": []
  },
  "kernelspec": {
   "display_name": "Python 3",
   "language": "python",
   "name": "python3"
  },
  "language_info": {
   "codemirror_mode": {
    "name": "ipython",
    "version": 3
   },
   "file_extension": ".py",
   "mimetype": "text/x-python",
   "name": "python",
   "nbconvert_exporter": "python",
   "pygments_lexer": "ipython3",
   "version": "3.8.3"
  }
 },
 "nbformat": 4,
 "nbformat_minor": 1
}
